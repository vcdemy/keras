{
  "cells": [
    {
      "attachments": {},
      "cell_type": "markdown",
      "metadata": {
        "colab_type": "text",
        "id": "WMs3ZrDsSrwH"
      },
      "source": [
        "<a href=\"https://colab.research.google.com/github/vcdemy/keras/blob/master/4-02%20titanic.ipynb\" target=\"_parent\"><img src=\"https://colab.research.google.com/assets/colab-badge.svg\" alt=\"Open In Colab\"/></a>"
      ]
    },
    {
      "cell_type": "markdown",
      "metadata": {
        "colab_type": "text",
        "id": "kzJHzUZcSrwI"
      },
      "source": [
        "# TITANIC生存分析"
      ]
    },
    {
      "cell_type": "code",
      "execution_count": null,
      "metadata": {
        "colab": {},
        "colab_type": "code",
        "id": "6C_KylW4SrwJ"
      },
      "outputs": [],
      "source": [
        "!wget https://github.com/victorgau/Python_ML_DL/raw/master/kaggle/titanic/train.csv -o /dev/null\n",
        "!wget https://github.com/victorgau/Python_ML_DL/raw/master/kaggle/titanic/test.csv -o /dev/null\n",
        "!wget https://github.com/victorgau/Python_ML_DL/raw/master/kaggle/titanic/gender_submission.csv -o /dev/null"
      ]
    },
    {
      "cell_type": "markdown",
      "metadata": {
        "colab_type": "text",
        "id": "Y48hiBS-SrwO"
      },
      "source": [
        "## 載入需要的模組"
      ]
    },
    {
      "cell_type": "code",
      "execution_count": null,
      "metadata": {
        "colab": {},
        "colab_type": "code",
        "id": "u-if1werSrwO"
      },
      "outputs": [],
      "source": [
        "from sklearn.ensemble import RandomForestClassifier\n",
        "from sklearn.model_selection import cross_val_score\n",
        "\n",
        "import pandas as pd"
      ]
    },
    {
      "cell_type": "markdown",
      "metadata": {
        "colab_type": "text",
        "id": "E0unwzLVSrwS"
      },
      "source": [
        "## 讀入資料"
      ]
    },
    {
      "cell_type": "code",
      "execution_count": null,
      "metadata": {
        "colab": {},
        "colab_type": "code",
        "id": "U5u2VOLKSrwS"
      },
      "outputs": [],
      "source": [
        "train = pd.read_csv(\"train.csv\")\n",
        "test = pd.read_csv(\"test.csv\")\n",
        "submit = pd.read_csv('gender_submission.csv')"
      ]
    },
    {
      "cell_type": "markdown",
      "metadata": {
        "colab_type": "text",
        "id": "3tsCqNK6SrwW"
      },
      "source": [
        "## 先看一下資料內容"
      ]
    },
    {
      "cell_type": "code",
      "execution_count": null,
      "metadata": {
        "colab": {},
        "colab_type": "code",
        "id": "KhBQn4SMSrwW"
      },
      "outputs": [],
      "source": [
        "train.head()"
      ]
    },
    {
      "cell_type": "markdown",
      "metadata": {
        "colab_type": "text",
        "id": "8AkFUcBzSrwZ"
      },
      "source": [
        "## 看看缺失值的狀況"
      ]
    },
    {
      "cell_type": "code",
      "execution_count": null,
      "metadata": {
        "colab": {},
        "colab_type": "code",
        "id": "fE3Ce8EeSrwa"
      },
      "outputs": [],
      "source": [
        "train.info()"
      ]
    },
    {
      "cell_type": "code",
      "execution_count": null,
      "metadata": {
        "colab": {},
        "colab_type": "code",
        "id": "HdE6uFVwSrwc"
      },
      "outputs": [],
      "source": [
        "test.info()"
      ]
    },
    {
      "cell_type": "markdown",
      "metadata": {
        "colab_type": "text",
        "id": "7WT0e4_1Srwf"
      },
      "source": [
        "## 看看資料的分布狀況"
      ]
    },
    {
      "cell_type": "code",
      "execution_count": null,
      "metadata": {
        "colab": {},
        "colab_type": "code",
        "id": "JdqlcJ0fSrwf"
      },
      "outputs": [],
      "source": [
        "train.describe()"
      ]
    },
    {
      "cell_type": "code",
      "execution_count": null,
      "metadata": {
        "colab": {},
        "colab_type": "code",
        "id": "QUsbTI-6Srwi"
      },
      "outputs": [],
      "source": [
        "test.describe()"
      ]
    },
    {
      "cell_type": "markdown",
      "metadata": {
        "colab_type": "text",
        "id": "b5lY-MOlSrwk"
      },
      "source": [
        "## 從上面觀察的結果，選取自己想要的特徵"
      ]
    },
    {
      "cell_type": "code",
      "execution_count": null,
      "metadata": {
        "colab": {},
        "colab_type": "code",
        "id": "xN1DaTU2Srwk"
      },
      "outputs": [],
      "source": [
        "selected_features = ['Pclass', 'Age', 'SibSp', 'Parch', 'Fare', 'Sex', 'Embarked']"
      ]
    },
    {
      "cell_type": "code",
      "execution_count": null,
      "metadata": {
        "colab": {},
        "colab_type": "code",
        "id": "PoxIcgbXSrwm"
      },
      "outputs": [],
      "source": [
        "X_train = train[selected_features]"
      ]
    },
    {
      "cell_type": "code",
      "execution_count": null,
      "metadata": {
        "colab": {},
        "colab_type": "code",
        "id": "4yyV84JQSrwr"
      },
      "outputs": [],
      "source": [
        "y_train = train['Survived']"
      ]
    },
    {
      "cell_type": "code",
      "execution_count": null,
      "metadata": {
        "colab": {},
        "colab_type": "code",
        "id": "nHqQ91wOSrwt"
      },
      "outputs": [],
      "source": [
        "X_test = test[selected_features]"
      ]
    },
    {
      "cell_type": "markdown",
      "metadata": {
        "colab_type": "text",
        "id": "qiGcV4pQSrwv"
      },
      "source": [
        "## 處理缺失值"
      ]
    },
    {
      "cell_type": "code",
      "execution_count": null,
      "metadata": {
        "colab": {},
        "colab_type": "code",
        "id": "fI5pC8AqSrww"
      },
      "outputs": [],
      "source": [
        "X_train.info()"
      ]
    },
    {
      "cell_type": "code",
      "execution_count": null,
      "metadata": {
        "colab": {},
        "colab_type": "code",
        "id": "4OuiJ2qCSrwy"
      },
      "outputs": [],
      "source": [
        "X_test.info()"
      ]
    },
    {
      "cell_type": "code",
      "execution_count": null,
      "metadata": {
        "colab": {},
        "colab_type": "code",
        "id": "f1akfbaMSrw0"
      },
      "outputs": [],
      "source": [
        "X_train['Age'].fillna(X_train['Age'].mean(), inplace=True)\n",
        "X_train['Embarked'].fillna('S', inplace=True)\n",
        "X_test['Age'].fillna(X_test['Age'].mean(), inplace=True)\n",
        "X_test['Fare'].fillna(X_test['Fare'].mean(), inplace=True)"
      ]
    },
    {
      "cell_type": "code",
      "execution_count": null,
      "metadata": {
        "colab": {},
        "colab_type": "code",
        "id": "idvffIn6Srw3"
      },
      "outputs": [],
      "source": [
        "X_train.info()"
      ]
    },
    {
      "cell_type": "markdown",
      "metadata": {
        "colab_type": "text",
        "id": "pj3iZn30Srw6"
      },
      "source": [
        "## 將字串類型的類別資料做轉換"
      ]
    },
    {
      "cell_type": "code",
      "execution_count": null,
      "metadata": {
        "colab": {},
        "colab_type": "code",
        "id": "_AhcbQ6MSrw7"
      },
      "outputs": [],
      "source": [
        "X_train = pd.get_dummies(X_train)"
      ]
    },
    {
      "cell_type": "code",
      "execution_count": null,
      "metadata": {
        "colab": {},
        "colab_type": "code",
        "id": "YZivi1dUSrw9"
      },
      "outputs": [],
      "source": [
        "X_train.head()"
      ]
    },
    {
      "cell_type": "code",
      "execution_count": null,
      "metadata": {
        "colab": {},
        "colab_type": "code",
        "id": "k0XKkDsJSrw_"
      },
      "outputs": [],
      "source": [
        "X_test = pd.get_dummies(X_test)"
      ]
    },
    {
      "cell_type": "code",
      "execution_count": null,
      "metadata": {
        "colab": {},
        "colab_type": "code",
        "id": "YJzSZavmSrxB"
      },
      "outputs": [],
      "source": [
        "X_test.head()"
      ]
    },
    {
      "cell_type": "markdown",
      "metadata": {
        "colab_type": "text",
        "id": "LozWkXcMSrxD"
      },
      "source": [
        "## 使用 Random Forest 來做分類"
      ]
    },
    {
      "cell_type": "code",
      "execution_count": null,
      "metadata": {
        "colab": {},
        "colab_type": "code",
        "id": "WkAdFo3FSrxD"
      },
      "outputs": [],
      "source": [
        "rfc = RandomForestClassifier()"
      ]
    },
    {
      "cell_type": "markdown",
      "metadata": {
        "colab_type": "text",
        "id": "-jkBpGtRSrxF"
      },
      "source": [
        "## 使用 K-Fold Cross Validation 看一下分類的準確度"
      ]
    },
    {
      "cell_type": "code",
      "execution_count": null,
      "metadata": {
        "colab": {},
        "colab_type": "code",
        "id": "cb_XOq-gSrxG"
      },
      "outputs": [],
      "source": [
        "cross_val_score(rfc, X_train, y_train, cv=10).mean()"
      ]
    },
    {
      "cell_type": "markdown",
      "metadata": {
        "colab_type": "text",
        "id": "6upVVoGXSrxI"
      },
      "source": [
        "## 訓練模型"
      ]
    },
    {
      "cell_type": "code",
      "execution_count": null,
      "metadata": {
        "colab": {},
        "colab_type": "code",
        "id": "ruMzLb6fSrxJ"
      },
      "outputs": [],
      "source": [
        "rfc.fit(X_train, y_train)"
      ]
    },
    {
      "cell_type": "markdown",
      "metadata": {
        "colab_type": "text",
        "id": "DwfOYtY1SrxM"
      },
      "source": [
        "## 用訓練好的模型來做預測"
      ]
    },
    {
      "cell_type": "code",
      "execution_count": null,
      "metadata": {
        "colab": {},
        "colab_type": "code",
        "id": "lH2iXoq0SrxM"
      },
      "outputs": [],
      "source": [
        "survived_predict = rfc.predict(X_test)"
      ]
    },
    {
      "cell_type": "markdown",
      "metadata": {
        "colab_type": "text",
        "id": "bLhi2qc_SrxO"
      },
      "source": [
        "## 將結果輸出成規定的格式"
      ]
    },
    {
      "cell_type": "code",
      "execution_count": null,
      "metadata": {
        "colab": {},
        "colab_type": "code",
        "id": "rm13HUKPSrxP"
      },
      "outputs": [],
      "source": [
        "submission=pd.DataFrame({'PassengerId':test['PassengerId'], 'Survived':survived_predict})"
      ]
    },
    {
      "cell_type": "code",
      "execution_count": null,
      "metadata": {
        "colab": {},
        "colab_type": "code",
        "id": "wHlPVvd2SrxQ"
      },
      "outputs": [],
      "source": [
        "submission.to_csv('submission.csv', index=False)"
      ]
    },
    {
      "cell_type": "markdown",
      "metadata": {
        "colab_type": "text",
        "id": "3nPB53BpSrxS"
      },
      "source": [
        "## 試試看 XGBOOST"
      ]
    },
    {
      "cell_type": "code",
      "execution_count": null,
      "metadata": {
        "colab": {},
        "colab_type": "code",
        "id": "7Zjsj0LnSrxT"
      },
      "outputs": [],
      "source": [
        "from xgboost import XGBClassifier"
      ]
    },
    {
      "cell_type": "code",
      "execution_count": null,
      "metadata": {
        "colab": {},
        "colab_type": "code",
        "id": "npSR9HYbSrxV"
      },
      "outputs": [],
      "source": [
        "xgbc = XGBClassifier()"
      ]
    },
    {
      "cell_type": "code",
      "execution_count": null,
      "metadata": {
        "colab": {},
        "colab_type": "code",
        "id": "qEUywauvSrxX"
      },
      "outputs": [],
      "source": [
        "cross_val_score(xgbc, X_train, y_train, cv=10).mean()"
      ]
    },
    {
      "cell_type": "code",
      "execution_count": null,
      "metadata": {
        "colab": {},
        "colab_type": "code",
        "id": "q10CcJlXSrxY"
      },
      "outputs": [],
      "source": [
        "xgbc.fit(X_train, y_train)"
      ]
    },
    {
      "cell_type": "code",
      "execution_count": null,
      "metadata": {
        "colab": {},
        "colab_type": "code",
        "id": "tQAzl76oSrxb"
      },
      "outputs": [],
      "source": [
        "survived_predict = xgbc.predict(X_test)"
      ]
    },
    {
      "cell_type": "code",
      "execution_count": null,
      "metadata": {
        "colab": {},
        "colab_type": "code",
        "id": "AAziMhVdSrxe"
      },
      "outputs": [],
      "source": [
        "submission=pd.DataFrame({'PassengerId':test['PassengerId'], 'Survived':survived_predict})"
      ]
    },
    {
      "cell_type": "code",
      "execution_count": null,
      "metadata": {
        "colab": {},
        "colab_type": "code",
        "id": "7qZwJtxhSrxg"
      },
      "outputs": [],
      "source": [
        "submission.to_csv('submission.csv', index=False)"
      ]
    },
    {
      "cell_type": "markdown",
      "metadata": {
        "colab_type": "text",
        "id": "36DMEkFqSxnb"
      },
      "source": [
        "## 試試看使用 Keras"
      ]
    },
    {
      "cell_type": "code",
      "execution_count": null,
      "metadata": {
        "colab": {},
        "colab_type": "code",
        "id": "5SXDCom7Sw1q"
      },
      "outputs": [],
      "source": [
        "from keras.models import Sequential\n",
        "from keras.layers import Dense, Dropout"
      ]
    },
    {
      "cell_type": "code",
      "execution_count": null,
      "metadata": {
        "colab": {},
        "colab_type": "code",
        "id": "u8tggz42TWBk"
      },
      "outputs": [],
      "source": [
        "model = Sequential()"
      ]
    },
    {
      "cell_type": "code",
      "execution_count": null,
      "metadata": {
        "colab": {},
        "colab_type": "code",
        "id": "Ozmh5PV6TYk_"
      },
      "outputs": [],
      "source": [
        "model.add(Dense(units=40, input_dim=10, kernel_initializer='uniform', activation='relu'))\n",
        "model.add(Dense(units=30, kernel_initializer='uniform', activation='relu'))\n",
        "model.add(Dense(units=1, kernel_initializer='uniform', activation='sigmoid'))"
      ]
    },
    {
      "cell_type": "code",
      "execution_count": null,
      "metadata": {
        "colab": {},
        "colab_type": "code",
        "id": "nX9CywJiUWCc"
      },
      "outputs": [],
      "source": [
        "model.compile(loss='binary_crossentropy',optimizer='adam',metrics=['accuracy'])"
      ]
    },
    {
      "cell_type": "code",
      "execution_count": null,
      "metadata": {
        "colab": {},
        "colab_type": "code",
        "id": "bVFzWXn9UhK4"
      },
      "outputs": [],
      "source": [
        "train_history = model.fit(x=X_train, y=y_train, validation_split=0.1, epochs=30, batch_size=30)"
      ]
    },
    {
      "cell_type": "code",
      "execution_count": null,
      "metadata": {
        "colab": {},
        "colab_type": "code",
        "id": "N1YG4JtbU7c0"
      },
      "outputs": [],
      "source": [
        "model.predict_classes(X_test)"
      ]
    }
  ],
  "metadata": {
    "colab": {
      "collapsed_sections": [
        "6upVVoGXSrxI",
        "DwfOYtY1SrxM",
        "bLhi2qc_SrxO"
      ],
      "name": "5-03 再看一次titanic.ipynb",
      "provenance": []
    },
    "kernelspec": {
      "display_name": "base",
      "language": "python",
      "name": "python3"
    },
    "language_info": {
      "codemirror_mode": {
        "name": "ipython",
        "version": 3
      },
      "file_extension": ".py",
      "mimetype": "text/x-python",
      "name": "python",
      "nbconvert_exporter": "python",
      "pygments_lexer": "ipython3",
      "version": "3.9.12 (main, Apr  4 2022, 05:22:27) [MSC v.1916 64 bit (AMD64)]"
    },
    "vscode": {
      "interpreter": {
        "hash": "843300ea7bac60dde0748c4123aec1a8c3712ede11babbafffdcc74c2dc4cd32"
      }
    }
  },
  "nbformat": 4,
  "nbformat_minor": 0
}
